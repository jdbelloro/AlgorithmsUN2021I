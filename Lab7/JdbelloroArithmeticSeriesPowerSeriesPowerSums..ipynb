{
  "nbformat": 4,
  "nbformat_minor": 0,
  "metadata": {
    "colab": {
      "name": "ArithmeticSeriesPowerSeriesPowerSums.ipynb",
      "provenance": [],
      "collapsed_sections": []
    },
    "kernelspec": {
      "name": "python3",
      "display_name": "Python 3"
    }
  },
  "cells": [
    {
      "cell_type": "markdown",
      "metadata": {
        "id": "r4rXWI4gCN5B"
      },
      "source": [
        "# Arithmetic Series\n",
        "\n",
        "## Modified from Arithmetic Series -  [Wolfram MathWorld](https://mathworld.wolfram.com/ArithmeticSeries.html)\n",
        "\n",
        "\n",
        "An arithmetic sequence $\\{a_k\\}$ for $k=1, 2, ..., $ in which each term is computed from the previous one by adding (or subtracting) a constant $d$. \n",
        "\n",
        "\\begin{align*}\n",
        "a_1 & \\\\\n",
        "a_2 &\\ \\ =\\ \\ a_1 + d  \\\\\n",
        "a_3 &\\ \\ =\\ \\ a_2 + d \\ \\ =\\ \\ a_1 + 2d   \\\\\n",
        "a_4 &\\ \\ =\\ \\ a_3 + d \\ \\ =\\ \\ a_2 + 2d \\ \\ =\\ \\ a_1 + 3d  \\\\\n",
        "\\vdots\\\\\n",
        "a_k &\\ \\ =\\ \\ a_{(k-1)}+d \\ =\\  a_{(k-2)}+2d \\ =\\  \\ldots \\ =\\  \\ a_1+(k-1)d\n",
        "\\end{align*}\n",
        "\n",
        "Therefore, for $k>=1$,\n",
        "\n",
        "$$ a_k = a_1 + (k-1)d$$\n",
        "\n",
        "With $a_1$ and $d$ given.\n",
        "\n",
        "<br /> \n",
        "\n",
        "The sequence of the partial sum of the first $n$ terms of a sequence is called a series, in the case of an arithemetic sequence the series is called an arithmetic series.\n",
        "\n",
        "If  $a_1= 1$ and $d=1$ we have, the simplest arithmnetic sequence,  the natural numbers sequence $\\{a_k = k \\}$ for  $k=1, 2, ..., $  i.e. the seuqnece\n",
        "$$1, 2, ...,$$\n",
        "The  corresponmding series is \n",
        "$$ \n",
        "S_n = 1 + 2+ \\ldots + (n-1)+ n = \\sum_{k=1}^n k\n",
        "$$\n",
        "can be calculated as a function of $n$.\n",
        "\n",
        "Assume that we allign one $S_{n-1}$ with a second  $S_{n-1}$ that have the terms adden reverse order and you add term to term, we have\n",
        "\\begin{array}{llclclclclc}\n",
        "  S_{n-1} &=& 1 &+& 2 &+& \\ldots &+& (n-2) &+& (n-1) \\\\\n",
        "  S_{n-1} &=& (n-1)  &+& (n-2)  &+& \\ldots   &+& 2   &+& 1 \\\\\n",
        "   \\hline \\\\\n",
        "   2S_{n-1} &=& n  &+& n  &+& \\ldots   &+& n   &+& n \\\\\n",
        "\\end{array}\n",
        "so\n",
        "$$  2S_{n-1} = (n-1)n $$\n",
        "then\n",
        "$$  S_{n-1} = \\frac{1}{2} (n-1)n$$\n",
        "therefore \n",
        "$$  S_{n} = \\frac{1}{2} n(n+1)$$\n",
        "\n",
        "\n",
        "\\begin{align*}\n",
        "S_n &= \\sum_{k=1}^n a_k\t\\\\\n",
        "    &= \\sum_{k=1}^n[a_1+(k-1)d]\t\t\\\\\n",
        "    &= na_1 + d \\sum_{k=1}^n(k-1)\t\\\\\n",
        "    &= na_1 + d \\sum_{k=0}^{n-1} k\t\\\\\n",
        "    &= na_1 + d \\sum_{k=1}^{n-1} k\t\\\\\n",
        "    &= na_1 +  \\frac{1}{2} d(n-1)n\\\\\n",
        "\\end{align*}\n",
        "so \n",
        "$$ S_n =  \\frac{1}{2} n[2 a_1 +d(n-1)].$$\n",
        "\n",
        "Note, however, that\n",
        "$$a_1+a_n=a_1+[a_1+d(n-1)]=2a_1+d(n-1),$$ \t\n",
        "so\n",
        "$$S_n = \\frac{1}{2}n(a_1+a_n),$$\n",
        "\n",
        "\n",
        "or $n$ times the arithmetic mean of the first and last terms! This is the trick Gauss used as a schoolboy to solve the problem of summing the integers from $1$ to $100$ given as busy-work by his teacher. While his classmates toiled away doing the addition longhand, Gauss wrote a single number, the correct answer\n",
        "\n",
        "$$\\frac{1}{2}(100)(1+100)=50·101=5050$$ \t\n",
        "on his slate (Burton 1989, pp. 80-81; Hoffman 1998, p. 207). When the answers were examined, Gauss's proved to be the only correct one.\n",
        "\n",
        "<br /> \n",
        "\n",
        "If  the sequence starts at index $0$, $\\{a_k\\}$ for $ k=0, 1, 2, ..., $ we have\n",
        "\n",
        "\\begin{align*}\n",
        "a_0 & \\\\\n",
        "a_1 &\\ \\ =\\ \\ a_0 + d  \\\\\n",
        "a_2 &\\ \\ =\\ \\ a_1 + d \\ \\ =\\ \\ a_0 + 2d   \\\\\n",
        "a_3 &\\ \\ =\\ \\ a_2 + d \\ \\ =\\ \\ a_1 + 2d \\ \\ =\\ \\ a_0 + 3d  \\\\\n",
        "\\vdots\\\\\n",
        "a_k &\\ \\ =\\ \\ a_{(k-1)}+d \\ =\\  a_{(k-2)}+2d \\ =\\  \\ldots \\ = \\  \\ a_1+(k-1)d \\ \\ =\\ \\ a_0+kd\n",
        "\\end{align*}\n",
        "\n",
        "<br /> \n",
        "for given   $a_0$ and $d$.\n",
        "\n",
        "In this case the sum of the first $n$ terms  of  the arithemnetic sequence  is then given by\n",
        "\\begin{align*}\n",
        "S_n &= \\sum_{k=0}^{n-1} a_k\t\\\\\n",
        "    &= \\sum_{k=0}^{n-1}[a_0+kd]\t\t\\\\\n",
        "    &= n a_0 + d \\sum_{k=0}^{n-1} k\t\\\\\n",
        "    &= n a_0 + d \\sum_{k=1}^{n-1} k\t\\\\\n",
        "    &= n a_0+  \\frac{1}{2} d(n-1)n \\\\\n",
        "\\end{align*}\n",
        "so \n",
        "$$ S_n =  \\frac{1}{2} n[2 a_0 + d(n-1)].$$\n",
        "<br /> \n",
        "\n"
      ]
    },
    {
      "cell_type": "markdown",
      "metadata": {
        "id": "GfBh-QHRcods"
      },
      "source": [
        "### Code\n",
        "####  The simplest arithmetic sequence and series\n",
        "\n",
        "The simplest arithmnetic sequence is \n",
        "\n",
        "\n",
        "$$S_n = 1, 2, ...,$$"
      ]
    },
    {
      "cell_type": "markdown",
      "metadata": {
        "id": "n36eWqEXiktl"
      },
      "source": [
        "The following code plots the first $n = 15$ terms of the simplest arithmnetic sequence \n",
        "$$\\{a_n = n\\} \\text{ for } n =1,2,\\ldots  $$\n",
        "i.e\n",
        "$$\\{a_n = n\\} =1,2,\\ldots $$\n",
        "adn the corresponding terms of the simplest arithmnetic series \n",
        "$$  S_n = 1 + 2+ \\ldots + (n-1)+ n = \\sum_{k=1}^n =  \\frac{1}{2} n(n+1)$$\n"
      ]
    },
    {
      "cell_type": "markdown",
      "metadata": {
        "id": "_VyGiunIZknK"
      },
      "source": [
        "Plot"
      ]
    },
    {
      "cell_type": "code",
      "metadata": {
        "colab": {
          "base_uri": "https://localhost:8080/",
          "height": 282
        },
        "id": "gx3Q4uo-ONCi",
        "outputId": "89f26054-d489-44b3-ef63-45dfe325c084"
      },
      "source": [
        "import matplotlib.pyplot as plt\n",
        "\n",
        "n = 15\n",
        "S_n = 0\n",
        "Serie_S_n=[]\n",
        "Sequence_a_n =[]\n",
        "for i in range(1,n+1):\n",
        "  S_n = S_n + i\n",
        "  Serie_S_n.append(S_n)\n",
        "  Sequence_a_n.append(i)\n",
        " \n",
        "plt.plot(Serie_S_n, color='black',label='Serie_S_n')\n",
        "plt.plot(Sequence_a_n, color='red',label='Sequence_a_n')\n",
        "plt.legend()\n",
        "\n",
        "\n"
      ],
      "execution_count": 1,
      "outputs": [
        {
          "output_type": "execute_result",
          "data": {
            "text/plain": [
              "<matplotlib.legend.Legend at 0x7f56d365b310>"
            ]
          },
          "metadata": {
            "tags": []
          },
          "execution_count": 1
        },
        {
          "output_type": "display_data",
          "data": {
            "image/png": "[encoded data removed]",
            "text/plain": [
              "<Figure size 432x288 with 1 Axes>"
            ]
          },
          "metadata": {
            "tags": [],
            "needs_background": "light"
          }
        }
      ]
    },
    {
      "cell_type": "markdown",
      "metadata": {
        "id": "0ybfJdHxZGvW"
      },
      "source": [
        "The following code computes the  $n=10000000$  term of the airthmetic series\n",
        "$$  S_n = 1 + 2+ \\ldots + (n-1)+ n = \\sum_{k=1}^n =  \\frac{1}{2} n(n+1)$$"
      ]
    },
    {
      "cell_type": "code",
      "metadata": {
        "colab": {
          "base_uri": "https://localhost:8080/"
        },
        "id": "99xYHDQycnol",
        "outputId": "cfdd835f-5c21-43ae-d447-f4ef1d6909d3"
      },
      "source": [
        "n = 10000000\n",
        "S_n = 0\n",
        "for i in range(1,n+1):  # range(n+1) goes form 1 to n\n",
        "  S_n = S_n + i \n",
        "print(S_n)"
      ],
      "execution_count": 2,
      "outputs": [
        {
          "output_type": "stream",
          "text": [
            "50000005000000\n"
          ],
          "name": "stdout"
        }
      ]
    },
    {
      "cell_type": "code",
      "metadata": {
        "colab": {
          "base_uri": "https://localhost:8080/"
        },
        "id": "RGCSuDGHeFwH",
        "outputId": "db92fea8-6fb7-4e2b-c6cb-55f1b1f08530"
      },
      "source": [
        "(1/2)*n*(n+1)"
      ],
      "execution_count": 3,
      "outputs": [
        {
          "output_type": "execute_result",
          "data": {
            "text/plain": [
              "50000005000000.0"
            ]
          },
          "metadata": {
            "tags": []
          },
          "execution_count": 3
        }
      ]
    },
    {
      "cell_type": "markdown",
      "metadata": {
        "id": "bg8zxAhcecpk"
      },
      "source": [
        "The following code computes the $n=10000000$ term of the airthmetic series \n",
        "$$ S_n  = \\sum_{k=1}^n a_k$$\n",
        "\n",
        "<br /> \n",
        "for the airthmetic sequence $a_k = 10 + 3 (k-1) $ for $k=1,2,\\ldots$\n",
        "\n",
        "<br /> \n",
        "$$ 10,13,16,19,21,\\ldots$$\n"
      ]
    },
    {
      "cell_type": "markdown",
      "metadata": {
        "id": "hg3ixQ3bZiVh"
      },
      "source": [
        "Plot"
      ]
    },
    {
      "cell_type": "code",
      "metadata": {
        "colab": {
          "base_uri": "https://localhost:8080/"
        },
        "id": "w8FP1XqSgnie",
        "outputId": "990fc869-da43-4ac2-a172-76a463f1a437"
      },
      "source": [
        "n = 10000000\n",
        "a = 10\n",
        "d = 3\n",
        "S_n = 0\n",
        "for i in range(1,n+1):  # range(n+19 goes form 1 to n\n",
        "  S_n = S_n + a + d * (i-1) \n",
        "print(S_n)"
      ],
      "execution_count": 4,
      "outputs": [
        {
          "output_type": "stream",
          "text": [
            "150000085000000\n"
          ],
          "name": "stdout"
        }
      ]
    },
    {
      "cell_type": "code",
      "metadata": {
        "colab": {
          "base_uri": "https://localhost:8080/"
        },
        "id": "g_38RfB_hgg2",
        "outputId": "00225e87-7c3b-4de2-9198-4bb62a130e80"
      },
      "source": [
        "n*(2*a +d*(n-1))/2"
      ],
      "execution_count": 5,
      "outputs": [
        {
          "output_type": "execute_result",
          "data": {
            "text/plain": [
              "150000085000000.0"
            ]
          },
          "metadata": {
            "tags": []
          },
          "execution_count": 5
        }
      ]
    },
    {
      "cell_type": "markdown",
      "metadata": {
        "id": "r9qzONSlZq2q"
      },
      "source": [
        "## Your own example of arithmetic series "
      ]
    },
    {
      "cell_type": "markdown",
      "metadata": {
        "id": "_pQnx3PfgKPs"
      },
      "source": [
        "The following code computes the $n=10000000$ term of the airthmetic series \n",
        "$$ S_n  = \\sum_{k=1}^n a_k$$\n",
        "\n",
        "<br /> \n",
        "for the airthmetic sequence $a_k = (k-2) +5 $ for $k=1,2,\\ldots$\n",
        "\n",
        "<br /> \n",
        "$$ 7,9,11,13,15,\\ldots$$"
      ]
    },
    {
      "cell_type": "code",
      "metadata": {
        "id": "sJ1yhp4lNVw9",
        "colab": {
          "base_uri": "https://localhost:8080/"
        },
        "outputId": "b6c3d36f-ce70-45fe-989a-16b89b53830c"
      },
      "source": [
        "n = 10000000\n",
        "serie = 0\n",
        "for i in range(1,n+1):  \n",
        "  serie = serie-2 + 5\n",
        "print(serie)"
      ],
      "execution_count": 6,
      "outputs": [
        {
          "output_type": "stream",
          "text": [
            "30000000\n"
          ],
          "name": "stdout"
        }
      ]
    },
    {
      "cell_type": "code",
      "metadata": {
        "colab": {
          "base_uri": "https://localhost:8080/",
          "height": 282
        },
        "id": "2loWJlvRn-1y",
        "outputId": "2de73316-5b98-4433-9eee-49ed28608620"
      },
      "source": [
        "\n",
        "n = 100\n",
        "S_n = 0\n",
        "Serie_S_n=[]\n",
        "Sequence_a_n =[]\n",
        "for i in range(5,n+1):\n",
        "  S_n = S_n + i\n",
        "  Serie_S_n.append(S_n)\n",
        "  Sequence_a_n.append(i)\n",
        " \n",
        "plt.plot(Serie_S_n, color='black',label='Serie_S_n')\n",
        "plt.plot(Sequence_a_n, color='red',label='Sequence_a_n')\n",
        "plt.legend()"
      ],
      "execution_count": 7,
      "outputs": [
        {
          "output_type": "execute_result",
          "data": {
            "text/plain": [
              "<matplotlib.legend.Legend at 0x7f56d30f3d90>"
            ]
          },
          "metadata": {
            "tags": []
          },
          "execution_count": 7
        },
        {
          "output_type": "display_data",
          "data": {
            "image/png": "[encoded data removed]",
            "text/plain": [
              "<Figure size 432x288 with 1 Axes>"
            ]
          },
          "metadata": {
            "tags": [],
            "needs_background": "light"
          }
        }
      ]
    },
    {
      "cell_type": "markdown",
      "metadata": {
        "id": "AKWJ1F7hac8T"
      },
      "source": [
        "# Geometric Series\n",
        "\n",
        "## Modified from Arithmetic Series -  [Wolfram MathWorld](https://mathworld.wolfram.com/GeometricSeries.html)\n"
      ]
    },
    {
      "cell_type": "markdown",
      "metadata": {
        "id": "W5zx_-nR81GI"
      },
      "source": [
        "An geometric series is the sum of a sequence $\\{a_k\\}$ for $k=1, 2, ..., $ in which each term is computed from the previous one by adding (or subtracting) a constant $d$. \n",
        "\n",
        "\\begin{align*}\n",
        "a_0 &\\ \\ =\\ \\ r^0 \\ \\ =\\ \\ 1\\\\\n",
        "a_1 &\\ \\ =\\ \\ a_0 *  r \\ \\ =\\ \\  r\\\\\n",
        "a_2 &\\ \\ =\\ \\ a_1 * r\\ \\ =\\ \\ a_0 * r^2  \\ \\ =\\ \\ r^2 \\\\\n",
        "a_3 &\\ \\ =\\ \\ a_2 * r \\ \\ =\\ \\ a_0 * r^3 \\ \\ =\\ \\  r^3  \\\\\n",
        "a_4 &\\ \\ =\\ \\ a_3 * r\\ \\  =\\ \\ a_0 * r^4 \\ \\  =\\ \\ r^4  \\\\\n",
        "\\vdots\\\\\n",
        "a_k &\\ \\ =\\ \\ a_{(k-1)}* r \\ =\\   a_0 * r^k \\ \\  =\\ \\  r^k\n",
        "\\end{align*}\n",
        "\n",
        "The sum of the first $n$ terms  of  the geometric sequence (called an geometric serie)  is then given by\n",
        "$$\n",
        "\\begin{array}{ll}\n",
        "S_n &=  1 + r + r^2 + \\cdots + r^{n-1} +r^n \\\\\n",
        " &=  (1 + r + r^2 + \\cdots + r^{n-1} ) +r^n \\\\\n",
        " &= S_{n-1}  +r^n \n",
        "\\end{array}\n",
        "$$\n",
        "\n",
        "$$\n",
        "\\begin{array}{ll}\n",
        "S_n &=  1 + r + r^2 + \\cdots + r^{n-1} +r^n \\\\\n",
        " &=  1 + (r + r^2 + \\cdots + r^{n-1}  +r^n)  \\\\\n",
        " &=   1 + r (1 +  r  + r^2 + \\cdots + r^{n-1} )  \\\\\n",
        "  &=   1 + r   S_{n-1} \n",
        "\\end{array}\n",
        "$$\n",
        "\n",
        "Then\n",
        "$$\n",
        " S_{n-1}  +r^n =   1 + r   S_{n-1} \n",
        "$$\n",
        "\n",
        "Therefore\n",
        "$$\n",
        " S_{n-1} (1 -r)   +r^n =   1 - r^n \n",
        "$$\n",
        "\n",
        "$$\n",
        " S_{n-1}   =   \\frac{1 - r^n }{1 -r}\n",
        "$$\n",
        "\n",
        "$$\n",
        " S_{n}   =   \\frac{1 - r^{n+1} }{1 -r}  = \\frac{ r^{n+1} - 1}{r -1}\n",
        "$$\n"
      ]
    },
    {
      "cell_type": "markdown",
      "metadata": {
        "id": "CDUYfT8k8crr"
      },
      "source": [
        "## Nodes in Complete Binary Tree with $L=0,1,2,\\cdots , L-1$ levels \n",
        "\n",
        "![](https://raw.githubusercontent.com/gjhernandezp/algorithms/master/Lab7/ComBinTree.png)\n",
        "\n",
        "In a complete binary tree you have in ecah level $k =0,1,2,\\cdots $  $ 2^k $\n",
        "\n",
        "$$\n",
        "\\begin{array}{ll}\n",
        "\\text {Level } 0 \\rightarrow 2^0 = 1 \\text { node (root)} \\\\\n",
        "\\text {Level } 1 \\rightarrow 2^1 = 2 \\text { nodes} \\\\\n",
        "\\text {Level } 2 \\rightarrow 2^2 = 4 \\text { nodes} \\\\\n",
        "\\text {Level } 3 \\rightarrow 2^3 = 8 \\text { nodes} \\\\\n",
        "\\vdots\\\\\n",
        "\\text {Level } k \\rightarrow 2^k  \\text { nodes} \\\\\n",
        "\\end{array}\n",
        "$$\n",
        "\n",
        "nodes, with $l = 0,1,2, ... $ the level\n",
        "\n",
        "Total number of the complte tree with $L=0,1,2,\\cdots , L-1$ levels\n",
        "\n",
        "$$ \n",
        "2^0 + 2^1 + 2^2 + \\cdots +2^{L-1}  = 1 + 2 + 4 + \\cdots +2^{L-1} = \\sum_{k=0}^{L-1} 2^k = \\frac{ 2^{L} - 1}{2 -1} = 2^{L} - 1\n",
        "$$"
      ]
    },
    {
      "cell_type": "markdown",
      "metadata": {
        "id": "YiWlrhLZNMX9"
      },
      "source": [
        "### Code"
      ]
    },
    {
      "cell_type": "code",
      "metadata": {
        "id": "YvMkYU8UNOll",
        "colab": {
          "base_uri": "https://localhost:8080/"
        },
        "outputId": "fd23db3d-000c-4983-942b-969bc828f2bd"
      },
      "source": [
        "def nodess(k):\n",
        "  if k==0:\n",
        "    return 1\n",
        "  else:\n",
        "    return ((2**k)+(nodess(k-1)))\n",
        "\n",
        "k= int(input(\"Profundidad: \"))\n",
        "print(\"En el nivel ingresado hay:\",2**k,\" nodos\")\n",
        "print(\"el arbol tiene un total de:\",nodess(k))"
      ],
      "execution_count": 8,
      "outputs": [
        {
          "output_type": "stream",
          "text": [
            "Profundidad: 12\n",
            "En el nivel ingresado hay: 4096  nodos\n",
            "el arbol tiene un total de: 8191\n"
          ],
          "name": "stdout"
        }
      ]
    },
    {
      "cell_type": "markdown",
      "metadata": {
        "id": "Dd3RWDwJe2xD"
      },
      "source": [
        "## Zenon Arrow\n",
        "\n",
        "![](https://raw.githubusercontent.com/gjhernandezp/algorithms/master/Lab7/zeno-paradox-arrow.png)\n",
        "\n",
        "https://leseditionsdeschavonnes.com/2018/10/15/the-paradox-of-achilles-and-the-tortoise/\n",
        "\n",
        "\n",
        "\n",
        "$$ \n",
        "\\lim_{n\\rightarrow \\infty} \\left\\{\\left(\\frac{1}{2}\\right)^0 + \\left(\\frac{1}{2}\\right)^1 +\\left(\\frac{1}{2}\\right)^2 + \\cdots +\\left(\\frac{1}{2}\\right)^{n} \\right\\} = \\lim_{n\\rightarrow \\infty} \\left\\{ 1 +\\frac{1}{2} + \\frac{1}{4} + \\frac{1}{8} + \\cdots +\\frac{1}{2^{n}}\\right\\}  = \\lim_{n\\rightarrow \\infty} \\sum_{k=0}^{n} \\left(\\frac{1}{2}\\right)^k = \\lim_{n\\rightarrow \\infty} \\frac{ 1- \\left(\\frac{1}{2}\\right)^n  }{1 - \\left(\\frac{1}{2}\\right) } = \\frac{ 1}{1 - \\left(\\frac{1}{2}\\right)} = 2\n",
        "$$"
      ]
    },
    {
      "cell_type": "markdown",
      "metadata": {
        "id": "R-J4EekBNPkd"
      },
      "source": [
        "### Code"
      ]
    },
    {
      "cell_type": "code",
      "metadata": {
        "id": "8xdBovY3NEW_",
        "colab": {
          "base_uri": "https://localhost:8080/"
        },
        "outputId": "8df7e2d7-8f09-4fc9-bf18-74ff274356b8"
      },
      "source": [
        "Sum=0\n",
        "for i in range(10000):\n",
        "  Sum += (1/2)**i\n",
        "\n",
        "print(Sum)"
      ],
      "execution_count": 9,
      "outputs": [
        {
          "output_type": "stream",
          "text": [
            "2.0\n"
          ],
          "name": "stdout"
        }
      ]
    },
    {
      "cell_type": "markdown",
      "metadata": {
        "id": "dh2ntBeoNQlN"
      },
      "source": [
        "# Power Sums \n",
        "\n",
        "*   https://mathworld.wolfram.com/PowerSum.html\n",
        "*   https://www.researchgate.net/publication/331933608_The_Powers_Sums_Bernoulli_Numbers_Bernoulli_Polynomials_Rethinked\n",
        "*   https://en.wikipedia.org/wiki/Sums_of_powers\n",
        "\n"
      ]
    }
  ]
}